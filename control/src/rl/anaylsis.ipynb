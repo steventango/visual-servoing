{
 "cells": [
  {
   "cell_type": "code",
   "execution_count": null,
   "metadata": {},
   "outputs": [],
   "source": [
    "import pandas as pd\n",
    "import numpy as np\n",
    "import glob\n",
    "from typing import Iterable\n",
    "from pathlib import Path\n",
    "\n",
    "import seaborn as sns\n",
    "import matplotlib.pyplot as plt\n",
    "from pandas.api.types import is_numeric_dtype"
   ]
  },
  {
   "cell_type": "code",
   "execution_count": null,
   "metadata": {},
   "outputs": [],
   "source": [
    "sns.set()"
   ]
  },
  {
   "cell_type": "code",
   "execution_count": null,
   "metadata": {},
   "outputs": [],
   "source": [
    "def combine_data(data_paths: Iterable[Path]):\n",
    "    dfs = []\n",
    "    for data_path in data_paths:\n",
    "        zipped_data = np.load(data_path, allow_pickle=True)\n",
    "        data = dict(zipped_data)\n",
    "        n_timesteps = data[\"timesteps\"].shape[0]\n",
    "        n_eval_episodes = data[\"results\"].shape[1]\n",
    "        best_successes = np.max(np.mean(data[\"successes\"], axis=1), axis=0)\n",
    "        mean_results = np.mean(data[\"results\"], axis=1)\n",
    "        mean_successes = np.mean(data[\"successes\"], axis=1)\n",
    "        mean_ep_lengths = np.mean(data[\"ep_lengths\"], axis=1)\n",
    "        obj = {\n",
    "            \"timesteps\": data[\"timesteps\"].flatten(),\n",
    "            \"results\": mean_results.flatten(),\n",
    "            \"ep_lengths\": mean_ep_lengths.flatten(),\n",
    "            \"successes\": mean_successes.flatten(),\n",
    "            \"best_successes\": np.full(n_timesteps, best_successes),\n",
    "            \"n_params\": np.full(n_timesteps, data[\"num_params\"] if \"num_params\" in data else None),\n",
    "        }\n",
    "        if \"args\" in data:\n",
    "            for key, value in data[\"args\"].item().items():\n",
    "                obj[key] = np.full(n_timesteps, value)\n",
    "            dfs.append(pd.DataFrame(obj))\n",
    "        else:\n",
    "            print(f\"{data_path}\")\n",
    "        zipped_data.close()\n",
    "    df = pd.concat(dfs)\n",
    "    return df\n"
   ]
  },
  {
   "cell_type": "code",
   "execution_count": null,
   "metadata": {},
   "outputs": [],
   "source": [
    "def plot_timesteps(df, y, ylabel, hue, huelabel, plot_dir, dofs, title_prefix, yticks=None, ylim=None, axhline=None, nrows=1, ncols=3, figsize=(16, 4)):\n",
    "    fig, axs = plt.subplots(nrows, ncols, sharey=True, sharex=True, figsize=figsize)\n",
    "    for i, (dof, ax) in enumerate(zip(dofs, axs)):\n",
    "        df_dof = df[df[\"dof\"] == dof]\n",
    "        if is_numeric_dtype(df_dof[hue]):\n",
    "            norm = plt.Normalize(df_dof[hue].min(), df_dof[hue].max())\n",
    "        else:\n",
    "            norm = None\n",
    "        sns.lineplot(\n",
    "            df_dof,\n",
    "            ax=ax,\n",
    "            x=\"timesteps\",\n",
    "            y=y,\n",
    "            hue=hue,\n",
    "            hue_norm=norm,\n",
    "            legend=i==len(dofs) - 1,\n",
    "        )\n",
    "        if i == len(dofs) - 1:\n",
    "            ax.legend(title=huelabel)\n",
    "        if axhline is not None:\n",
    "            ax.axhline(axhline, ls=\"--\", color=\"black\")\n",
    "        ax.set_xlabel(\"Time Steps\")\n",
    "        ax.set_xticks(np.arange(0, df_dof[\"timesteps\"].max() + 1, 1e4))\n",
    "        ax.ticklabel_format(axis='x', style='sci', scilimits=(0,0))\n",
    "        ax.set_ylabel(ylabel)\n",
    "        if yticks is not None:\n",
    "            ax.set_yticks(yticks)\n",
    "        if ylim is not None:\n",
    "            ax.set_ylim(ylim)\n",
    "        ax.set_title(f\"{title_prefix}{dof}DOF\")\n",
    "    plt.savefig(plot_dir / f\"{y}.{hue}.timesteps.png\", bbox_inches='tight')"
   ]
  },
  {
   "cell_type": "code",
   "execution_count": null,
   "metadata": {},
   "outputs": [],
   "source": [
    "def calculate_sample_efficiency(final_reward_type_df, groupby):\n",
    "    first_timestep_gt_90 = {}\n",
    "    seen = set()\n",
    "\n",
    "    final_reward_type_df = final_reward_type_df.sort_values(by=[*groupby, \"timesteps\", \"eval_log_path\"])\n",
    "    for i, row in final_reward_type_df.iterrows():\n",
    "        key = tuple(row[col] for col in groupby)\n",
    "        if row[\"successes\"] < 0.9:\n",
    "            continue\n",
    "        if key not in first_timestep_gt_90:\n",
    "            first_timestep_gt_90[key] = [row[\"timesteps\"]]\n",
    "        elif row[\"eval_log_path\"] not in seen:\n",
    "            first_timestep_gt_90[key].append(row[\"timesteps\"])\n",
    "        seen.add(row[\"eval_log_path\"])\n",
    "\n",
    "    mean_first_timestep_gt_90 = {}\n",
    "    for key, value in first_timestep_gt_90.items():\n",
    "        mean_first_timestep_gt_90[key] = (np.mean(value), np.std(value), len(value))\n",
    "    return mean_first_timestep_gt_90"
   ]
  },
  {
   "cell_type": "code",
   "execution_count": null,
   "metadata": {},
   "outputs": [],
   "source": [
    "DOFS = [3, 4, 7]\n",
    "REWARD_TYPE = [\"reward_type\", \"Reward Type\"]\n",
    "REWARD = (\"results\", \"Reward\")\n",
    "SUCCESS_RATE = (\"successes\", \"Success Rate\")\n",
    "LEARNING_RATE = (\"learning_rate\", \"Learning Rate\")\n",
    "BEST_SUCCESS = (\"best_successes\", \"Best Success Rate\")\n",
    "HIDDEN_SIZE = (\"hidden_size\", \"Hidden Size\")\n",
    "DEPTH = (\"depth\", \"Depth\")\n",
    "NUMBER_OF_PARAMETERS = (\"n_params\", \"Number of parameters\")\n",
    "ARCHITECTURE = (\"arch\", \"Number of Layers x Hidden Size\")\n",
    "ALGORITHM = (\"alg\", \"Algorithm\")\n",
    "EPISODE_LENGTH = (\"ep_lengths\", \"Episode Length\")\n",
    "plot_dir = Path(\"../../../experiments/Final/plots\")\n",
    "plot_dir.mkdir(parents=True, exist_ok=True)"
   ]
  },
  {
   "cell_type": "code",
   "execution_count": null,
   "metadata": {},
   "outputs": [],
   "source": [
    "final_algorithms_paths = glob.glob(\"../../../experiments/Final_Algorithms/data/**/*.npz\", recursive=True)\n",
    "final_algorithms_paths = [Path(path) for path in final_algorithms_paths]\n",
    "final_algorithms_df = combine_data(final_algorithms_paths)\n",
    "\n",
    "final_algorithms_df[\"arch\"] = final_algorithms_df[\"depth\"].astype(int).astype(str) + \"x\" + final_algorithms_df[\"hidden_size\"].astype(int).astype(str)\n",
    "final_algorithms_df = final_algorithms_df.sort_values(by=[\"hidden_size\", \"depth\"])\n",
    "\n",
    "condition = (final_algorithms_df[\"alg\"] == \"TD3\") & (final_algorithms_df[\"policy\"] == \"NJMultiInputPolicy\")\n",
    "final_algorithms_df.loc[condition, \"alg\"] = \"TD3-NJ\"\n",
    "\n",
    "condition = ~((final_algorithms_df[\"alg\"] == \"UVS\") & (final_algorithms_df[\"learning_rate\"] != 0))\n",
    "final_algorithms_df_filtered = final_algorithms_df[condition]\n",
    "\n",
    "condition = final_algorithms_df_filtered[\"reward_type\"] == \"Dense\"\n",
    "final_algorithms_df_filtered = final_algorithms_df_filtered[condition]\n",
    "\n",
    "final_algorithms_df_filtered = final_algorithms_df_filtered.sort_values(by=[\"alg\"])\n",
    "\n",
    "plot_timesteps(final_algorithms_df_filtered, *SUCCESS_RATE, *ALGORITHM, plot_dir, DOFS, \"WAMVisualReachDense\", np.arange(0, 1.1, 0.1), axhline=0.9)"
   ]
  },
  {
   "cell_type": "code",
   "execution_count": null,
   "metadata": {},
   "outputs": [],
   "source": [
    "final_algorithms_df_filtered_50k = final_algorithms_df_filtered[final_algorithms_df_filtered[\"timesteps\"] == 50000]\n",
    "final_algorithms_df_filtered_50k[[\"alg\", \"dof\", \"successes\", \"results\"]].groupby([\"alg\", \"dof\"]).describe().round(2)"
   ]
  },
  {
   "cell_type": "code",
   "execution_count": null,
   "metadata": {},
   "outputs": [],
   "source": [
    "calculate_sample_efficiency(final_algorithms_df_filtered, (\"alg\", \"dof\"))"
   ]
  },
  {
   "cell_type": "code",
   "execution_count": null,
   "metadata": {},
   "outputs": [],
   "source": [
    "df_nj = final_algorithms_df_filtered[final_algorithms_df_filtered[\"alg\"] == \"TD3-NJ\"]\n",
    "\n",
    "df_nj_lt_90 = df_nj[df_nj[\"successes\"] < .9].copy()\n",
    "df_nj_lt_90[\"episodes\"] = 1000 / df_nj_lt_90[\"ep_lengths\"]\n",
    "df_nj_lt_90[[\"dof\", \"episodes\"]].groupby(\"dof\").sum()"
   ]
  },
  {
   "cell_type": "code",
   "execution_count": null,
   "metadata": {},
   "outputs": [],
   "source": [
    "plot_timesteps(final_algorithms_df_filtered, *EPISODE_LENGTH, *ALGORITHM, plot_dir, DOFS, \"WAMVisualReachDense\", ylim=(5, 20))"
   ]
  },
  {
   "cell_type": "code",
   "execution_count": null,
   "metadata": {},
   "outputs": [],
   "source": [
    "final_reward_type_paths = glob.glob(\"../../../experiments/Final_Reward_Type/data/**/*.npz\", recursive=True)\n",
    "final_reward_type_paths = [Path(path) for path in final_reward_type_paths]\n",
    "final_reward_type_df = combine_data(final_reward_type_paths)\n",
    "final_reward_type_df = final_reward_type_df.sort_values(by=[\"reward_type\"])\n",
    "plot_timesteps(final_reward_type_df, *SUCCESS_RATE, *REWARD_TYPE, plot_dir, DOFS, \"WAMVisualReach\")"
   ]
  },
  {
   "cell_type": "code",
   "execution_count": null,
   "metadata": {},
   "outputs": [],
   "source": [
    "final_reward_type_df_100k = final_reward_type_df[final_reward_type_df[\"timesteps\"] == 100000]\n",
    "final_reward_type_df_100k[[\"reward_type\", \"dof\", \"successes\"]].groupby([\"reward_type\", \"dof\"]).describe().round(2)"
   ]
  },
  {
   "cell_type": "code",
   "execution_count": null,
   "metadata": {},
   "outputs": [],
   "source": [
    "mean_first_timestep_gt_90 = calculate_sample_efficiency(final_reward_type_df, [\"reward_type\", \"dof\"])\n",
    "mean_first_timestep_gt_90"
   ]
  },
  {
   "cell_type": "code",
   "execution_count": null,
   "metadata": {},
   "outputs": [],
   "source": [
    "final_sizes_paths = glob.glob(\"../../../experiments/Final_Sizes/data/**/*.npz\", recursive=True)\n",
    "final_sizes_paths = [Path(path) for path in final_sizes_paths]\n",
    "final_sizes_df = combine_data(final_sizes_paths)\n",
    "final_sizes_df[\"arch\"] = final_sizes_df[\"depth\"].astype(int).astype(str) + \"x\" + final_sizes_df[\"hidden_size\"].astype(int).astype(str)\n",
    "final_sizes_df = final_sizes_df.sort_values(by=[\"hidden_size\", \"depth\"])"
   ]
  },
  {
   "cell_type": "code",
   "execution_count": null,
   "metadata": {},
   "outputs": [],
   "source": [
    "condition = (final_sizes_df[\"depth\"] == 2)\n",
    "final_sizes_df_filtered = final_sizes_df[condition]"
   ]
  },
  {
   "cell_type": "code",
   "execution_count": null,
   "metadata": {},
   "outputs": [],
   "source": [
    "plot_timesteps(final_sizes_df_filtered, *SUCCESS_RATE, *ARCHITECTURE, plot_dir, DOFS, \"WAMVisualReachDense\")"
   ]
  },
  {
   "cell_type": "code",
   "execution_count": null,
   "metadata": {},
   "outputs": [],
   "source": [
    "import itertools\n",
    "def plot_timesteps_matrix(df, y, ylabel, hue, huelabel, plot_dir, dofs, title_prefix, yticks=None, ylim=None, axhline=None, nrows=1, ncols=3, figsize=(16, 4)):\n",
    "    fig, axs = plt.subplots(nrows, ncols, sharey=True, sharex=True, figsize=figsize)\n",
    "    depths = [1, 2, 3]\n",
    "    for i, ((depth, dof), ax) in enumerate(zip(itertools.product(depths, dofs), axs.flatten())):\n",
    "        df_dof = df[df[\"dof\"] == dof]\n",
    "        df_dof = df_dof[df_dof[\"depth\"] == depth]\n",
    "        # if is_numeric_dtype(df_dof[hue]):\n",
    "        #     norm = plt.Normalize(df_dof[hue].min(), df_dof[hue].max())\n",
    "        # else:\n",
    "        #     norm = None\n",
    "        sns.lineplot(\n",
    "            df_dof,\n",
    "            ax=ax,\n",
    "            x=\"timesteps\",\n",
    "            y=y,\n",
    "            hue=hue,\n",
    "            # hue_norm=norm,\n",
    "            legend=(i % len(dofs) == 2),\n",
    "        )\n",
    "        if i % len(dofs) == 2:\n",
    "            ax.legend(title=huelabel, bbox_to_anchor=(1.04, 0.5), loc=\"center left\")\n",
    "        if axhline is not None:\n",
    "            ax.axhline(axhline, ls=\"--\", color=\"black\")\n",
    "        ax.set_xlabel(\"Time Steps\")\n",
    "        ax.set_xticks(np.arange(0, df[\"timesteps\"].max()+1, 10000))\n",
    "        ax.ticklabel_format(axis='x', style='sci', scilimits=(0,0))\n",
    "        ax.set_ylabel(ylabel)\n",
    "        if yticks is not None:\n",
    "            ax.set_yticks(yticks)\n",
    "        if ylim is not None:\n",
    "            ax.set_ylim(ylim)\n",
    "        if i < len(dofs):\n",
    "            ax.set_title(f\"{title_prefix}{dof}DOF\")\n",
    "    plt.savefig(plot_dir / f\"{y}.{hue}.timesteps.png\", bbox_inches='tight')"
   ]
  },
  {
   "cell_type": "code",
   "execution_count": null,
   "metadata": {},
   "outputs": [],
   "source": [
    "final_sizes_df[\"hidden_size\"]"
   ]
  },
  {
   "cell_type": "code",
   "execution_count": null,
   "metadata": {},
   "outputs": [],
   "source": [
    "plot_timesteps_matrix(final_sizes_df, *SUCCESS_RATE, *ARCHITECTURE, plot_dir, DOFS, \"WAMVisualReachDense\", np.arange(0, 1.1, 0.1), nrows=3, ncols=3, figsize=(16, 24))"
   ]
  },
  {
   "cell_type": "code",
   "execution_count": null,
   "metadata": {},
   "outputs": [],
   "source": [
    "final_sizes_df.groupby([\"arch\", \"dof\"])[\"n_params\"].unique()[[\"2x64\", \"1x128\"]]"
   ]
  }
 ],
 "metadata": {
  "kernelspec": {
   "display_name": "env",
   "language": "python",
   "name": "python3"
  },
  "language_info": {
   "codemirror_mode": {
    "name": "ipython",
    "version": 3
   },
   "file_extension": ".py",
   "mimetype": "text/x-python",
   "name": "python",
   "nbconvert_exporter": "python",
   "pygments_lexer": "ipython3",
   "version": "3.10.12"
  },
  "orig_nbformat": 4
 },
 "nbformat": 4,
 "nbformat_minor": 2
}
